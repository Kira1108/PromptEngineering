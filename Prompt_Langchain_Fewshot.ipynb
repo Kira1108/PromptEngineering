{
  "nbformat": 4,
  "nbformat_minor": 0,
  "metadata": {
    "colab": {
      "provenance": [],
      "authorship_tag": "ABX9TyNXtOfFvABFAnuDIWdYwKuZ",
      "include_colab_link": true
    },
    "kernelspec": {
      "name": "python3",
      "display_name": "Python 3"
    },
    "language_info": {
      "name": "python"
    }
  },
  "cells": [
    {
      "cell_type": "markdown",
      "metadata": {
        "id": "view-in-github",
        "colab_type": "text"
      },
      "source": [
        "<a href=\"https://colab.research.google.com/github/Kira1108/PromptEngineering/blob/main/Prompt_Langchain_Fewshot.ipynb\" target=\"_parent\"><img src=\"https://colab.research.google.com/assets/colab-badge.svg\" alt=\"Open In Colab\"/></a>"
      ]
    },
    {
      "cell_type": "code",
      "execution_count": 1,
      "metadata": {
        "id": "XbqdkCYqqYU6"
      },
      "outputs": [],
      "source": [
        "from IPython.display import clear_output\n",
        "!pip install openai langchain sentencepiece tiktoken\n",
        "clear_output()"
      ]
    },
    {
      "cell_type": "code",
      "source": [
        "from langchain.prompts import PromptTemplate, ChatPromptTemplate, FewShotPromptTemplate"
      ],
      "metadata": {
        "id": "_IqzH6TjqbkU"
      },
      "execution_count": 3,
      "outputs": []
    },
    {
      "cell_type": "markdown",
      "source": [
        "### Step 1: 开发Exmple的部分"
      ],
      "metadata": {
        "id": "4XNJzjK5r0Uw"
      }
    },
    {
      "cell_type": "code",
      "source": [
        "# 这边是一系列的小样本\n",
        "examples = [\n",
        "    {\"word\": \"happy\", \"antonym\": \"sad\"},\n",
        "    {\"word\": \"tall\", \"antonym\": \"short\"},\n",
        "    {\"word\": \"black\", \"antonym\":\"white\"}\n",
        "]\n",
        "\n",
        "# 小样本在提示中怎么组织\n",
        "example_formatter_template = \"\"\"\n",
        "Word: {word}\n",
        "Antonym: {antonym}\\n\n",
        "\"\"\"\n",
        "\n",
        "# 把小样本这个东西给组织起来\n",
        "example_prompt = PromptTemplate(\n",
        "    input_variables=[\"word\", \"antonym\"],\n",
        "    template=example_formatter_template,\n",
        ")\n",
        "\n",
        "# 单一的example是这样的\n",
        "single_example = example_prompt.format(word = 'happy', antonym = \"sad\")\n",
        "print(\"Single Exmaple...\")\n",
        "print(single_example)\n",
        "\n",
        "# 多个exmaple还是要循环的\n",
        "print(\"FewShot Exmaples...\")\n",
        "for e in examples:\n",
        "    print(example_prompt.format(**e))"
      ],
      "metadata": {
        "colab": {
          "base_uri": "https://localhost:8080/"
        },
        "id": "AaU-4QHCrHdb",
        "outputId": "1c5ff10b-f87b-40d3-be94-afe016a226ef"
      },
      "execution_count": 33,
      "outputs": [
        {
          "output_type": "stream",
          "name": "stdout",
          "text": [
            "Single Exmaple...\n",
            "\n",
            "Word: happy\n",
            "Antonym: sad\n",
            "\n",
            "\n",
            "FewShot Exmaples...\n",
            "\n",
            "Word: happy\n",
            "Antonym: sad\n",
            "\n",
            "\n",
            "\n",
            "Word: tall\n",
            "Antonym: short\n",
            "\n",
            "\n",
            "\n",
            "Word: black\n",
            "Antonym: white\n",
            "\n",
            "\n"
          ]
        }
      ]
    },
    {
      "cell_type": "markdown",
      "source": [
        "到这儿我们就把Example给开发完事儿了"
      ],
      "metadata": {
        "id": "F4OYfQWPtPY_"
      }
    },
    {
      "cell_type": "markdown",
      "source": [
        "## Step 2： 开发提示语和样本输入"
      ],
      "metadata": {
        "id": "27xU56kqtV3g"
      }
    },
    {
      "cell_type": "code",
      "source": [
        "few_shot_prompt = FewShotPromptTemplate(\n",
        "    # 先把examples拿过来 (示例list)\n",
        "    examples=examples,\n",
        "    # 示例的格式 prompt\n",
        "    example_prompt=example_prompt,\n",
        "    # 示例之前你想要说一些什么指令，这条prompt的核心功能，比如task啥的，都在这儿写，非常重要\n",
        "    prefix=\"Give the antonym of every input\",\n",
        "    # 用户舒服部分，这部分，你要给用户输入， 这也是这条few_shot_prompt的format方法需要接收的参数\n",
        "    suffix=\"Word: {input}\\nAntonym:\",\n",
        "    # 显示的规定好这条prompt的参数 （通常是在suffix部分）\n",
        "    input_variables=[\"input\"],\n",
        "    # 这条提示分成了3个部分，这个分隔符用来连接这三个部分\n",
        "    example_separator=\"\\n\\n\",\n",
        ")\n",
        "\n",
        "final_prompt = few_shot_prompt.format(input = \"sexy\")\n",
        "print(final_prompt)"
      ],
      "metadata": {
        "colab": {
          "base_uri": "https://localhost:8080/"
        },
        "id": "X8llCvdcsraV",
        "outputId": "40802efb-8018-40e2-85b3-b9691f5f440b"
      },
      "execution_count": 38,
      "outputs": [
        {
          "output_type": "stream",
          "name": "stdout",
          "text": [
            "Give the antonym of every input\n",
            "\n",
            "\n",
            "Word: happy\n",
            "Antonym: sad\n",
            "\n",
            "\n",
            "\n",
            "\n",
            "Word: tall\n",
            "Antonym: short\n",
            "\n",
            "\n",
            "\n",
            "\n",
            "Word: black\n",
            "Antonym: white\n",
            "\n",
            "\n",
            "\n",
            "Word: sexy\n",
            "Antonym:\n"
          ]
        }
      ]
    },
    {
      "cell_type": "markdown",
      "source": [
        "这样就算完成了这个prompt的开发。        \n",
        "通常来说，这样就够了，可以用了。    "
      ],
      "metadata": {
        "id": "i4VS2OLYuoCm"
      }
    }
  ]
}