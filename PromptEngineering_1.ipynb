{
  "nbformat": 4,
  "nbformat_minor": 0,
  "metadata": {
    "colab": {
      "provenance": [],
      "authorship_tag": "ABX9TyMPLNTrzSrZwMbKWI+ujTN2",
      "include_colab_link": true
    },
    "kernelspec": {
      "name": "python3",
      "display_name": "Python 3"
    },
    "language_info": {
      "name": "python"
    }
  },
  "cells": [
    {
      "cell_type": "markdown",
      "metadata": {
        "id": "view-in-github",
        "colab_type": "text"
      },
      "source": [
        "<a href=\"https://colab.research.google.com/github/Kira1108/PromptEngineering/blob/main/PromptEngineering_1.ipynb\" target=\"_parent\"><img src=\"https://colab.research.google.com/assets/colab-badge.svg\" alt=\"Open In Colab\"/></a>"
      ]
    },
    {
      "cell_type": "code",
      "execution_count": null,
      "metadata": {
        "id": "xHgj2Hfo-YfZ"
      },
      "outputs": [],
      "source": [
        "from IPython.display import clear_output\n",
        "!pip install openai parse\n",
        "clear_output()"
      ]
    },
    {
      "cell_type": "code",
      "source": [
        "import openai\n",
        "openai.api_key = \"\""
      ],
      "metadata": {
        "id": "bdmc2O2z-vdN"
      },
      "execution_count": null,
      "outputs": []
    },
    {
      "cell_type": "code",
      "source": [
        "def get_completion(prompt, model=\"gpt-3.5-turbo\"):\n",
        "    messages = [{\"role\": \"user\", \"content\": prompt}]\n",
        "    response = openai.ChatCompletion.create(\n",
        "        model=model,\n",
        "        messages=messages,\n",
        "        temperature=0, # this is the degree of randomness of the model's output\n",
        "    )\n",
        "    return response.choices[0].message[\"content\"]"
      ],
      "metadata": {
        "id": "XSXVyPBgBoAG"
      },
      "execution_count": null,
      "outputs": []
    },
    {
      "cell_type": "markdown",
      "source": [
        "# I. Write Clear and Specific Instructions"
      ],
      "metadata": {
        "id": "xeqs6TKsLwok"
      }
    },
    {
      "cell_type": "markdown",
      "source": [
        "## 1. Use Delimeters\n",
        "\n",
        "使用delimeters, 把Prompt的内容和Text的内容分开, delimeters可以是各种标点符号，xml标签\n",
        "- ``` triple backtick\n",
        "- \"\"\" triple quotes\n",
        "- < > angle brackets\n",
        "- `<tag>` `</tag>` tag\n",
        "\n",
        "\n",
        "你的目的是要告诉GPT，这是一个独立的section"
      ],
      "metadata": {
        "id": "yL195y-xDSFM"
      }
    },
    {
      "cell_type": "code",
      "source": [
        "text = f\"\"\"\n",
        "You should express what you want a model to do by \\ \n",
        "providing instructions that are as clear and \\ \n",
        "specific as you can possibly make them. \\ \n",
        "This will guide the model towards the desired output, \\ \n",
        "and reduce the chances of receiving irrelevant \\ \n",
        "or incorrect responses. Don't confuse writing a \\ \n",
        "clear prompt with writing a short prompt. \\ \n",
        "In many cases, longer prompts provide more clarity \\ \n",
        "and context for the model, which can lead to \\ \n",
        "more detailed and relevant outputs.\n",
        "\"\"\"\n",
        "prompt = f\"\"\"\n",
        "Summarize the text delimited by triple backticks \\ \n",
        "into a single sentence.\n",
        "```{text}```\n",
        "\"\"\"\n",
        "response = get_completion(prompt)\n",
        "print(response)"
      ],
      "metadata": {
        "colab": {
          "base_uri": "https://localhost:8080/"
        },
        "id": "cwhEI52bBsLK",
        "outputId": "5e7abd5d-51e4-48c5-84e6-9df00b8578ab"
      },
      "execution_count": null,
      "outputs": [
        {
          "output_type": "stream",
          "name": "stdout",
          "text": [
            "To guide a model towards the desired output and reduce the chances of irrelevant or incorrect responses, it is important to provide clear and specific instructions, which may be longer prompts that provide more clarity and context for the model.\n"
          ]
        }
      ]
    },
    {
      "cell_type": "markdown",
      "source": [
        "## 2. Ask for structured output\n",
        "\n",
        "要的回json，才能免的后面去正则\n",
        "\n",
        "```\n",
        "Provide them in JSON format with the following keys: \n",
        "book_id, title, author, genre.\n",
        "```"
      ],
      "metadata": {
        "id": "PJ9I6BMPE-h6"
      }
    },
    {
      "cell_type": "code",
      "source": [
        "prompt = f\"\"\"\n",
        "Generate a list of three made-up book titles along \\ \n",
        "with their authors and genres. \n",
        "Provide them in JSON format with the following keys: \n",
        "book_id, title, author, genre.\n",
        "\"\"\"\n",
        "response = get_completion(prompt)\n",
        "print(response)"
      ],
      "metadata": {
        "colab": {
          "base_uri": "https://localhost:8080/"
        },
        "id": "ybPiSfeiB8np",
        "outputId": "79e268b1-d8a1-411f-e310-7aebd4275f44"
      },
      "execution_count": null,
      "outputs": [
        {
          "output_type": "stream",
          "name": "stdout",
          "text": [
            "[\n",
            "  {\n",
            "    \"book_id\": 1,\n",
            "    \"title\": \"The Lost City of Zorath\",\n",
            "    \"author\": \"Aria Blackwood\",\n",
            "    \"genre\": \"Fantasy\"\n",
            "  },\n",
            "  {\n",
            "    \"book_id\": 2,\n",
            "    \"title\": \"The Last Survivors\",\n",
            "    \"author\": \"Ethan Stone\",\n",
            "    \"genre\": \"Science Fiction\"\n",
            "  },\n",
            "  {\n",
            "    \"book_id\": 3,\n",
            "    \"title\": \"The Secret of the Haunted Mansion\",\n",
            "    \"author\": \"Lila Rose\",\n",
            "    \"genre\": \"Mystery\"\n",
            "  }\n",
            "]\n"
          ]
        }
      ]
    },
    {
      "cell_type": "code",
      "source": [
        "import json\n",
        "import pprint\n",
        "data = json.loads(response)\n",
        "pprint.pp(data)"
      ],
      "metadata": {
        "colab": {
          "base_uri": "https://localhost:8080/"
        },
        "id": "DP36D_1JFOoJ",
        "outputId": "d2d49fe8-2782-448c-8a85-30e9a436b872"
      },
      "execution_count": null,
      "outputs": [
        {
          "output_type": "stream",
          "name": "stdout",
          "text": [
            "[{'book_id': 1,\n",
            "  'title': 'The Lost City of Zorath',\n",
            "  'author': 'Aria Blackwood',\n",
            "  'genre': 'Fantasy'},\n",
            " {'book_id': 2,\n",
            "  'title': 'The Last Survivors',\n",
            "  'author': 'Ethan Stone',\n",
            "  'genre': 'Science Fiction'},\n",
            " {'book_id': 3,\n",
            "  'title': 'The Secret of the Haunted Mansion',\n",
            "  'author': 'Lila Rose',\n",
            "  'genre': 'Mystery'}]\n"
          ]
        }
      ]
    },
    {
      "cell_type": "markdown",
      "source": [
        "## 3. Check Conditions\n",
        "```\n",
        "if condition safisfied:\n",
        "    do something\n",
        "    return result\n",
        "else:\n",
        "    return exception result\n",
        "```"
      ],
      "metadata": {
        "id": "XfoYlTwCHXRm"
      }
    },
    {
      "cell_type": "code",
      "source": [
        "text_1 = f\"\"\"\n",
        "Making a cup of tea is easy! First, you need to get some \\ \n",
        "water boiling. While that's happening, \\ \n",
        "grab a cup and put a tea bag in it. Once the water is \\ \n",
        "hot enough, just pour it over the tea bag. \\ \n",
        "Let it sit for a bit so the tea can steep. After a \\ \n",
        "few minutes, take out the tea bag. If you \\ \n",
        "like, you can add some sugar or milk to taste. \\ \n",
        "And that's it! You've got yourself a delicious \\ \n",
        "cup of tea to enjoy.\n",
        "\"\"\"\n",
        "\n",
        "prompt = f\"\"\"\n",
        "You will be provided with text delimited by triple quotes. \n",
        "If it contains a sequence of instructions, \\ \n",
        "re-write those instructions in the following format:\n",
        "\n",
        "Step 1 - ...\n",
        "Step 2 - …\n",
        "…\n",
        "Step N - …\n",
        "\n",
        "If the text does not contain a sequence of instructions, \\ \n",
        "then simply write \\\"No steps provided.\\\"\n",
        "\n",
        "\\\"\\\"\\\"{text_1}\\\"\\\"\\\"\n",
        "\"\"\"\n",
        "response = get_completion(prompt)\n",
        "print(\"Completion for Text 1:\")\n",
        "print(response)"
      ],
      "metadata": {
        "colab": {
          "base_uri": "https://localhost:8080/"
        },
        "id": "awkPdxxSFUoD",
        "outputId": "86c5fa5a-6999-403e-c56a-27085324710b"
      },
      "execution_count": null,
      "outputs": [
        {
          "output_type": "stream",
          "name": "stdout",
          "text": [
            "Completion for Text 1:\n",
            "Step 1 - Get some water boiling.\n",
            "Step 2 - Grab a cup and put a tea bag in it.\n",
            "Step 3 - Once the water is hot enough, pour it over the tea bag.\n",
            "Step 4 - Let it sit for a bit so the tea can steep.\n",
            "Step 5 - After a few minutes, take out the tea bag.\n",
            "Step 6 - Add some sugar or milk to taste.\n",
            "Step 7 - Enjoy your delicious cup of tea!\n"
          ]
        }
      ]
    },
    {
      "cell_type": "markdown",
      "source": [
        "## 4. Practice"
      ],
      "metadata": {
        "id": "aeRnm5LxJnpm"
      }
    },
    {
      "cell_type": "code",
      "source": [
        "text_1 = f\"\"\"\n",
        "Making a cup of tea is easy! First, you need to get some \\ \n",
        "water boiling. While that's happening, \\ \n",
        "grab a cup and put a tea bag in it. Once the water is \\ \n",
        "hot enough, just pour it over the tea bag. \\ \n",
        "Let it sit for a bit so the tea can steep. After a \\ \n",
        "few minutes, take out the tea bag. If you \\ \n",
        "like, you can add some sugar or milk to taste. \\ \n",
        "And that's it! You've got yourself a delicious \\ \n",
        "cup of tea to enjoy.\n",
        "\"\"\"\n",
        "\n",
        "prompt = f\"\"\"\n",
        "You will be provided with text delimited by triple quotes. \n",
        "If it contains a sequence of instructions, \\ \n",
        "re-write those instructions in JSON format, a list containing steps,\n",
        "each step contain keys `step_order` and `step_content`\n",
        "\n",
        "If the text does not contain a sequence of instructions, \\ \n",
        "then simply response a JSON with one key 'message' and value 'No steps provided.'\\\"\n",
        "\n",
        "\\\"\\\"\\\"{text_1}\\\"\\\"\\\"\n",
        "\"\"\"\n",
        "response = get_completion(prompt)\n",
        "json.loads(response)"
      ],
      "metadata": {
        "colab": {
          "base_uri": "https://localhost:8080/"
        },
        "id": "_wQrkiZeH3On",
        "outputId": "a2db3b36-fbe9-44cd-f9b9-a9ed99b05c13"
      },
      "execution_count": null,
      "outputs": [
        {
          "output_type": "execute_result",
          "data": {
            "text/plain": [
              "[{'step_order': 1,\n",
              "  'step_content': 'First, you need to get some water boiling.'},\n",
              " {'step_order': 2,\n",
              "  'step_content': \"While that's happening, grab a cup and put a tea bag in it.\"},\n",
              " {'step_order': 3,\n",
              "  'step_content': 'Once the water is hot enough, just pour it over the tea bag.'},\n",
              " {'step_order': 4,\n",
              "  'step_content': 'Let it sit for a bit so the tea can steep.'},\n",
              " {'step_order': 5,\n",
              "  'step_content': 'After a few minutes, take out the tea bag.'},\n",
              " {'step_order': 6,\n",
              "  'step_content': 'If you like, you can add some sugar or milk to taste.'},\n",
              " {'step_order': 7,\n",
              "  'step_content': \"And that's it! You've got yourself a delicious cup of tea to enjoy.\"}]"
            ]
          },
          "metadata": {},
          "execution_count": 23
        }
      ]
    },
    {
      "cell_type": "markdown",
      "source": [
        "拿着这个东西，你就能去渲染页面去了，多骚"
      ],
      "metadata": {
        "id": "F_mdWK1KLbG7"
      }
    },
    {
      "cell_type": "code",
      "source": [
        "text_1 = f\"\"\"\n",
        "The weather is good today.\n",
        "We are going to a restaurant.\n",
        "That's happy\n",
        "\"\"\"\n",
        "\n",
        "prompt = f\"\"\"\n",
        "You will be provided with text delimited by triple quotes. \n",
        "If it contains a sequence of instructions, \\ \n",
        "re-write those instructions in JSON format, a list containing steps,\n",
        "each step contain keys `step_order` and `step_content`\n",
        "\n",
        "If the text does not contain a sequence of instructions, \\ \n",
        "then simply response a JSON with one key 'message' and value 'No steps provided.'\\\"\n",
        "\n",
        "\\\"\\\"\\\"{text_1}\\\"\\\"\\\"\n",
        "\"\"\"\n",
        "response = get_completion(prompt)\n",
        "json.loads(response)"
      ],
      "metadata": {
        "colab": {
          "base_uri": "https://localhost:8080/"
        },
        "id": "LPt8KmsZIdmW",
        "outputId": "4b01897a-f45e-43be-feb0-09c1801b3850"
      },
      "execution_count": null,
      "outputs": [
        {
          "output_type": "execute_result",
          "data": {
            "text/plain": [
              "{'message': 'No steps provided.'}"
            ]
          },
          "metadata": {},
          "execution_count": 22
        }
      ]
    },
    {
      "cell_type": "markdown",
      "source": [
        "## 5. Few Shot prompt"
      ],
      "metadata": {
        "id": "NzEk0ZYrLAmK"
      }
    },
    {
      "cell_type": "code",
      "source": [
        "prompt = f\"\"\"\n",
        "Your task is to answer in a consistent style.\n",
        "\n",
        "<child>: Teach me about patience.\n",
        "\n",
        "<grandparent>: The river that carves the deepest \\ \n",
        "valley flows from a modest spring; the \\ \n",
        "grandest symphony originates from a single note; \\ \n",
        "the most intricate tapestry begins with a solitary thread.\n",
        "\n",
        "<child>: Teach me about resilience.\n",
        "\"\"\"\n",
        "response = get_completion(prompt)\n",
        "print(response)"
      ],
      "metadata": {
        "colab": {
          "base_uri": "https://localhost:8080/"
        },
        "id": "woa2qVUxJjAA",
        "outputId": "0e61b60e-8d53-4379-a7cf-99ddb271002b"
      },
      "execution_count": null,
      "outputs": [
        {
          "output_type": "stream",
          "name": "stdout",
          "text": [
            "<grandparent>: Resilience is like a tree that bends with the wind but never breaks. It is the ability to bounce back from adversity and keep moving forward, even when things get tough. Just like a tree that grows stronger with each storm it weathers, resilience is a quality that can be developed and strengthened over time.\n"
          ]
        }
      ]
    },
    {
      "cell_type": "markdown",
      "source": [
        "# II. Give the model time to think\n",
        "\n",
        "## 1. Chain of Thought"
      ],
      "metadata": {
        "id": "UtMrqLr0L7ka"
      }
    },
    {
      "cell_type": "code",
      "source": [
        "text = f\"\"\"\n",
        "In a charming village, siblings Jack and Jill set out on \\ \n",
        "a quest to fetch water from a hilltop \\ \n",
        "well. As they climbed, singing joyfully, misfortune \\ \n",
        "struck—Jack tripped on a stone and tumbled \\ \n",
        "down the hill, with Jill following suit. \\ \n",
        "Though slightly battered, the pair returned home to \\ \n",
        "comforting embraces. Despite the mishap, \\ \n",
        "their adventurous spirits remained undimmed, and they \\ \n",
        "continued exploring with delight.\n",
        "\"\"\"\n",
        "# example 1\n",
        "prompt_1 = f\"\"\"\n",
        "Perform the following actions: \n",
        "1 - Summarize the following text delimited by triple \\\n",
        "backticks with 1 sentence.\n",
        "2 - Translate the summary into Chinese.\n",
        "3 - List each name in the Chinese summary.\n",
        "4 - Output a json object that contains the following \\\n",
        "keys: chinese_summary with string value, num_names with int value, names with list of strings.\n",
        "\n",
        "Separate your answers with line breaks.\n",
        "\n",
        "Text:\n",
        "```{text}```\n",
        "\"\"\"\n",
        "response = get_completion(prompt_1)\n",
        "print(\"Completion for prompt 1:\")\n",
        "print(response)"
      ],
      "metadata": {
        "colab": {
          "base_uri": "https://localhost:8080/"
        },
        "id": "KFw6gOgJLDZl",
        "outputId": "94f0f767-cb50-4958-ef31-06df759f14cb"
      },
      "execution_count": null,
      "outputs": [
        {
          "output_type": "stream",
          "name": "stdout",
          "text": [
            "Completion for prompt 1:\n",
            "1 - Siblings Jack and Jill go on a quest to fetch water from a hilltop well, but misfortune strikes as they both tumble down the hill, yet they remain undeterred and continue exploring with delight.\n",
            "\n",
            "2 - 兄妹杰克和吉尔前往山顶井取水，但不幸的是他们都滚下了山，尽管如此他们仍然保持着冒险精神并继续愉快地探索。\n",
            "\n",
            "3 - 杰克，吉尔\n",
            "\n",
            "4 - \n",
            "{\n",
            "  \"chinese_summary\": \"兄妹杰克和吉尔前往山顶井取水，但不幸的是他们都滚下了山，尽管如此他们仍然保持着冒险精神并继续愉快地探索。\",\n",
            "  \"num_names\": 2,\n",
            "  \"names\": [\"杰克\", \"吉尔\"]\n",
            "}\n"
          ]
        }
      ]
    },
    {
      "cell_type": "markdown",
      "source": [
        "任务完成的挺牛逼，但是结果没法解析"
      ],
      "metadata": {
        "id": "TDe9FOO9OHTt"
      }
    },
    {
      "cell_type": "code",
      "source": [
        "response.split(\"\\n\")"
      ],
      "metadata": {
        "colab": {
          "base_uri": "https://localhost:8080/"
        },
        "id": "35zdnbdEN45G",
        "outputId": "e899e84d-2423-48c9-b9fd-6ae964faa822"
      },
      "execution_count": null,
      "outputs": [
        {
          "output_type": "execute_result",
          "data": {
            "text/plain": [
              "['1 - Siblings Jack and Jill go on a quest to fetch water from a hilltop well, but misfortune strikes as they both tumble down the hill, yet they remain undeterred and continue exploring with delight.',\n",
              " '',\n",
              " '2 - 兄妹杰克和吉尔前往山顶井取水，但不幸的是他们都滚下了山，尽管如此他们仍然保持着冒险精神并继续愉快地探索。',\n",
              " '',\n",
              " '3 - 杰克，吉尔',\n",
              " '',\n",
              " '4 - ',\n",
              " '{',\n",
              " '  \"chinese_summary\": \"兄妹杰克和吉尔前往山顶井取水，但不幸的是他们都滚下了山，尽管如此他们仍然保持着冒险精神并继续愉快地探索。\",',\n",
              " '  \"num_names\": 2,',\n",
              " '  \"names\": [\"杰克\", \"吉尔\"]',\n",
              " '}']"
            ]
          },
          "metadata": {},
          "execution_count": 33
        }
      ]
    },
    {
      "cell_type": "code",
      "source": [
        "prompt_2 = f\"\"\"\n",
        "Your task is to perform the following actions: \n",
        "1 - Summarize the following text delimited by \n",
        "  <> with 1 sentence.\n",
        "2 - Translate the summary into Chinese.\n",
        "3 - List each name in the Chinese summary.\n",
        "4 - Output a json object that contains the \n",
        "  following keys: chinese_summary, num_names.\n",
        "\n",
        "Use the following format:\n",
        "Text: <text to summarize>\n",
        "Summary: <summary>\n",
        "Translation: <summary translation>\n",
        "Names: <list of names in Chinese summary>\n",
        "Output JSON: <json with summary ,num_names, and names>\n",
        "\n",
        "Text: <{text}>\n",
        "\"\"\"\n",
        "response = get_completion(prompt_2)\n",
        "print(\"\\nCompletion for prompt 2:\")\n",
        "print(response)"
      ],
      "metadata": {
        "colab": {
          "base_uri": "https://localhost:8080/"
        },
        "id": "8I2PtfeROB4q",
        "outputId": "3a31f26c-feac-4486-d782-38ac07f1cbfe"
      },
      "execution_count": null,
      "outputs": [
        {
          "output_type": "stream",
          "name": "stdout",
          "text": [
            "\n",
            "Completion for prompt 2:\n",
            "Summary: Jack and Jill go on a quest to fetch water, but misfortune strikes and they tumble down a hill, returning home slightly battered but with undimmed adventurous spirits. \n",
            "Translation: Jack 和 Jill 去取水，但不幸的是他们跌倒了，回家时有些受伤，但他们的冒险精神仍然不减，继续愉快地探索。\n",
            "Names: Jack, Jill\n",
            "Output JSON: {\"chinese_summary\": \"Jack 和 Jill 去取水，但不幸的是他们跌倒了，回家时有些受伤，但他们的冒险精神仍然不减，继续愉快地探索。\", \"num_names\": 2, \"names\": [\"Jack\", \"Jill\"]}\n"
          ]
        }
      ]
    },
    {
      "cell_type": "code",
      "source": [
        "from parse import parse\n",
        "r = parse(\"Output JSON: {json_data}\",response.split(\"\\n\")[-1])\n",
        "json.loads(r.named['json_data'])"
      ],
      "metadata": {
        "colab": {
          "base_uri": "https://localhost:8080/"
        },
        "id": "k2_LHcA5OjZR",
        "outputId": "c37ca6dd-dc43-4b65-bd1b-627d8fba10a6"
      },
      "execution_count": null,
      "outputs": [
        {
          "output_type": "execute_result",
          "data": {
            "text/plain": [
              "{'chinese_summary': 'Jack 和 Jill 去取水，但不幸的是他们跌倒了，回家时有些受伤，但他们的冒险精神仍然不减，继续愉快地探索。',\n",
              " 'num_names': 2,\n",
              " 'names': ['Jack', 'Jill']}"
            ]
          },
          "metadata": {},
          "execution_count": 46
        }
      ]
    },
    {
      "cell_type": "markdown",
      "source": [
        "想尽一切办法最后取到了Json    \n",
        "- 1. 细化Chain of Thought\n",
        "- 2. 关键部分由Json给出"
      ],
      "metadata": {
        "id": "_yQ_KVdFQKw8"
      }
    },
    {
      "cell_type": "markdown",
      "source": [
        "## 2. Workout Before Conclusion   \n",
        "\n",
        "比较巧妙的利用了一种补全的方式， Chain of Thought了"
      ],
      "metadata": {
        "id": "4iV1OzSETIN4"
      }
    },
    {
      "cell_type": "code",
      "source": [
        "prompt = f\"\"\"\n",
        "Determine if the student's solution is correct or not.\n",
        "\n",
        "Question:\n",
        "I'm building a solar power installation and I need \\\n",
        " help working out the financials. \n",
        "- Land costs $100 / square foot\n",
        "- I can buy solar panels for $250 / square foot\n",
        "- I negotiated a contract for maintenance that will cost \\ \n",
        "me a flat $100k per year, and an additional $10 / square \\\n",
        "foot\n",
        "What is the total cost for the first year of operations \n",
        "as a function of the number of square feet.\n",
        "\n",
        "Student's Solution:\n",
        "Let x be the size of the installation in square feet.\n",
        "Costs:\n",
        "1. Land cost: 100x\n",
        "2. Solar panel cost: 250x\n",
        "3. Maintenance cost: 100,000 + 100x\n",
        "Total cost: 100x + 250x + 100,000 + 100x = 450x + 100,000\n",
        "\"\"\"\n",
        "response = get_completion(prompt)\n",
        "print(response)"
      ],
      "metadata": {
        "colab": {
          "base_uri": "https://localhost:8080/"
        },
        "id": "20sqInHAPu4m",
        "outputId": "2a9fe5c7-e98e-43f1-c5f1-80203f9fa720"
      },
      "execution_count": null,
      "outputs": [
        {
          "output_type": "stream",
          "name": "stdout",
          "text": [
            "The student's solution is correct.\n"
          ]
        }
      ]
    },
    {
      "cell_type": "code",
      "source": [
        "prompt = f\"\"\"\n",
        "Your task is to determine if the student's solution \\\n",
        "is correct or not.\n",
        "To solve the problem do the following:\n",
        "- First, work out your own solution to the problem. \n",
        "- Then compare your solution to the student's solution \\ \n",
        "and evaluate if the student's solution is correct or not. \n",
        "Don't decide if the student's solution is correct until \n",
        "you have done the problem yourself.\n",
        "\n",
        "Use the following format:\n",
        "Question:\n",
        "```\n",
        "question here\n",
        "```\n",
        "Student's solution:\n",
        "```\n",
        "student's solution here\n",
        "```\n",
        "Actual solution:\n",
        "```\n",
        "steps to work out the solution and your solution here\n",
        "```\n",
        "Is the student's solution the same as actual solution \\\n",
        "just calculated:\n",
        "```\n",
        "yes or no\n",
        "```\n",
        "Student grade:\n",
        "```\n",
        "correct or incorrect\n",
        "```\n",
        "\n",
        "Question:\n",
        "```\n",
        "I'm building a solar power installation and I need help \\\n",
        "working out the financials. \n",
        "- Land costs $100 / square foot\n",
        "- I can buy solar panels for $250 / square foot\n",
        "- I negotiated a contract for maintenance that will cost \\\n",
        "me a flat $100k per year, and an additional $10 / square \\\n",
        "foot\n",
        "What is the total cost for the first year of operations \\\n",
        "as a function of the number of square feet.\n",
        "``` \n",
        "Student's solution:\n",
        "```\n",
        "Let x be the size of the installation in square feet.\n",
        "Costs:\n",
        "1. Land cost: 100x\n",
        "2. Solar panel cost: 250x\n",
        "3. Maintenance cost: 100,000 + 100x\n",
        "Total cost: 100x + 250x + 100,000 + 100x = 450x + 100,000\n",
        "```\n",
        "Actual solution:\n",
        "\"\"\"\n",
        "response = get_completion(prompt)\n",
        "print(response)"
      ],
      "metadata": {
        "colab": {
          "base_uri": "https://localhost:8080/"
        },
        "id": "M_vIFy7AT1Za",
        "outputId": "51b75495-86b9-4230-c91f-87b55ae9331f"
      },
      "execution_count": null,
      "outputs": [
        {
          "output_type": "stream",
          "name": "stdout",
          "text": [
            "Let x be the size of the installation in square feet.\n",
            "\n",
            "Costs:\n",
            "1. Land cost: 100x\n",
            "2. Solar panel cost: 250x\n",
            "3. Maintenance cost: 100,000 + 10x\n",
            "\n",
            "Total cost: 100x + 250x + 100,000 + 10x = 360x + 100,000\n",
            "\n",
            "Is the student's solution the same as actual solution just calculated:\n",
            "No\n",
            "\n",
            "Student grade:\n",
            "Incorrect\n"
          ]
        }
      ]
    },
    {
      "cell_type": "code",
      "source": [],
      "metadata": {
        "id": "2mNXqglKUQzU"
      },
      "execution_count": null,
      "outputs": []
    }
  ]
}